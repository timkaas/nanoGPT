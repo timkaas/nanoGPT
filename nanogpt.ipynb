{
 "cells": [
  {
   "cell_type": "code",
   "execution_count": 1,
   "metadata": {
    "collapsed": true,
    "ExecuteTime": {
     "end_time": "2023-05-30T12:24:09.605467Z",
     "start_time": "2023-05-30T12:24:02.109451Z"
    }
   },
   "outputs": [],
   "source": [
    "import pickle\n",
    "import datetime\n",
    "\n",
    "from ipywidgets import IntProgress\n",
    "from IPython.display import display\n",
    "\n",
    "import tiktoken\n",
    "import torch\n",
    "import pathlib as pl\n",
    "import pandas as pd\n",
    "\n",
    "# Data visualization\n",
    "import plotly.express as px\n",
    "\n",
    "from sklearn.model_selection import train_test_split"
   ]
  },
  {
   "cell_type": "code",
   "execution_count": 2,
   "outputs": [],
   "source": [
    "today = datetime.date.today().strftime(\"%Y%m%d\")"
   ],
   "metadata": {
    "collapsed": false,
    "ExecuteTime": {
     "end_time": "2023-05-30T12:24:29.107484Z",
     "start_time": "2023-05-30T12:24:29.104772Z"
    }
   }
  },
  {
   "cell_type": "code",
   "execution_count": 3,
   "outputs": [],
   "source": [
    "torch.manual_seed(42)\n",
    "device = \"cuda\" if torch.cuda.is_available() else \"cpu\"\n",
    "#torch.backends.mps.is_available()\n",
    "#device = torch.device(\"mps\")"
   ],
   "metadata": {
    "collapsed": false,
    "ExecuteTime": {
     "end_time": "2023-05-30T12:24:30.304877Z",
     "start_time": "2023-05-30T12:24:30.277094Z"
    }
   }
  },
  {
   "cell_type": "code",
   "execution_count": 3,
   "outputs": [],
   "source": [
    "enc_100 = tiktoken.get_encoding('cl100k_base')\n",
    "enc_p50 = tiktoken.get_encoding('p50k_base')\n",
    "enc_r50 = tiktoken.get_encoding('r50k_base')\n",
    "encoders = [enc_p50, enc_r50, enc_100]\n",
    "\n",
    "encode = enc_100.encode"
   ],
   "metadata": {
    "collapsed": false,
    "ExecuteTime": {
     "end_time": "2023-05-26T11:46:05.056453Z",
     "start_time": "2023-05-26T11:45:57.371566Z"
    }
   }
  },
  {
   "cell_type": "code",
   "execution_count": 4,
   "outputs": [
    {
     "name": "stdout",
     "output_type": "stream",
     "text": [
      "--begin--\n",
      "p50k_base => 25\n",
      "det,  her,  er,  ret,  s, j, ov, t, !,  -,  h, v, ad,  med,  �, �, g, ,,  h, ø, ns,  or,  �, �, ben\n",
      "---end---\n",
      "--begin--\n",
      "r50k_base => 25\n",
      "det,  her,  er,  ret,  s, j, ov, t, !,  -,  h, v, ad,  med,  �, �, g, ,,  h, ø, ns,  or,  �, �, ben\n",
      "---end---\n",
      "--begin--\n",
      "cl100k_base => 20\n",
      "det,  her,  er,  ret,  sj, ov, t, !,  -,  hvad,  med,  æ, g, ,,  h, ø, ns,  or,  å, ben\n",
      "---end---\n"
     ]
    }
   ],
   "source": [
    "def foo(enc):\n",
    "    encoded = enc.encode(\"det her er ret sjovt! - hvad med æg, høns or åben\")\n",
    "    tokens = [enc.decode([t]) for t in encoded]\n",
    "    print(\"--begin--\")\n",
    "    print(f\"{enc.name} => {len(tokens)}\")\n",
    "    print(\", \".join(tokens))\n",
    "    print(\"---end---\")\n",
    "\n",
    "for enc in encoders:\n",
    "    foo(enc)"
   ],
   "metadata": {
    "collapsed": false,
    "ExecuteTime": {
     "end_time": "2023-05-26T11:46:05.058174Z",
     "start_time": "2023-05-26T11:46:05.056600Z"
    }
   }
  },
  {
   "cell_type": "code",
   "execution_count": 4,
   "outputs": [],
   "source": [
    "block_size = 256  # Number of continues tokens (history) to use for training\n",
    "batch_size = 64  # Number of channels of data to feed to CPU/GPU to take advantage of parallel computing\n",
    "n_embed = 384  # Number of neurons in layers / num of features to find\n",
    "num_heads = 6\n",
    "num_layers = 6\n",
    "dropout = 0.2\n",
    "\n",
    "lr = 3e-4  # Learning rate"
   ],
   "metadata": {
    "collapsed": false,
    "ExecuteTime": {
     "end_time": "2023-05-30T12:24:35.557960Z",
     "start_time": "2023-05-30T12:24:35.554653Z"
    }
   }
  },
  {
   "cell_type": "code",
   "execution_count": 5,
   "outputs": [],
   "source": [
    "data_dir = pl.Path(\"data\")\n",
    "model_dir = pl.Path(\"model\")\n",
    "model_dir.mkdir(parents=True, exist_ok=True)\n",
    "plot_dir = pl.Path(\"plot\")\n",
    "plot_dir.mkdir(parents=True, exist_ok=True)\n",
    "data_file = data_dir / \"shakespeare_char\" / \"input.txt\"\n",
    "with open(data_file, 'r') as f:\n",
    "    data = f.read()"
   ],
   "metadata": {
    "collapsed": false,
    "ExecuteTime": {
     "end_time": "2023-05-30T12:24:47.421956Z",
     "start_time": "2023-05-30T12:24:47.411257Z"
    }
   }
  },
  {
   "cell_type": "code",
   "execution_count": 6,
   "outputs": [],
   "source": [
    "chars = sorted(list(set(data)))\n",
    "vocab_size = len(chars)"
   ],
   "metadata": {
    "collapsed": false,
    "ExecuteTime": {
     "end_time": "2023-05-30T12:24:50.215771Z",
     "start_time": "2023-05-30T12:24:50.212411Z"
    }
   }
  },
  {
   "cell_type": "code",
   "execution_count": 7,
   "outputs": [
    {
     "name": "stdout",
     "output_type": "stream",
     "text": [
      "[46, 47, 1, 58, 46, 43, 56, 43, 2]\n",
      "hi there!\n"
     ]
    }
   ],
   "source": [
    "stoi = {ch:i for i,ch in enumerate(chars)}\n",
    "encode = lambda s: [stoi[ch] for ch in s]\n",
    "decode = lambda idxs: ''.join([chars[i] for i in idxs])\n",
    "\n",
    "print(encode(\"hi there!\"))\n",
    "print(decode(encode(\"hi there!\")))"
   ],
   "metadata": {
    "collapsed": false,
    "ExecuteTime": {
     "end_time": "2023-05-30T12:24:51.742429Z",
     "start_time": "2023-05-30T12:24:51.730073Z"
    }
   }
  },
  {
   "cell_type": "code",
   "execution_count": 8,
   "outputs": [],
   "source": [
    "tdata = torch.tensor(encode(data), dtype=torch.long)\n",
    "## Split data into train and validation data\n",
    "n = int(0.9*len(tdata))\n",
    "train_data = tdata[:n]\n",
    "val_data = tdata[n:]"
   ],
   "metadata": {
    "collapsed": false,
    "ExecuteTime": {
     "end_time": "2023-05-30T12:24:53.441288Z",
     "start_time": "2023-05-30T12:24:53.439951Z"
    }
   }
  },
  {
   "cell_type": "code",
   "execution_count": 9,
   "outputs": [
    {
     "data": {
      "text/plain": "(tensor([[54, 43, 63,  ..., 54, 43, 63],\n         [57,  1, 61,  ..., 47, 52,  1],\n         [57,  1, 58,  ..., 46, 39, 58],\n         ...,\n         [23, 17,  1,  ..., 24, 17, 10],\n         [43, 50, 54,  ...,  1, 21, 51],\n         [63, 53, 59,  ..., 63,  1, 58]]),\n tensor([[43, 63,  1,  ..., 43, 63, 12],\n         [ 1, 61, 53,  ..., 52,  1, 61],\n         [ 1, 58, 46,  ..., 39, 58, 46],\n         ...,\n         [17,  1, 27,  ..., 17, 10,  0],\n         [50, 54,  1,  ..., 21, 51, 54],\n         [53, 59,  1,  ...,  1, 58, 39]]))"
     },
     "execution_count": 9,
     "metadata": {},
     "output_type": "execute_result"
    }
   ],
   "source": [
    "def get_batch(data):\n",
    "    # Get random batch\n",
    "    ix = torch.randint(len(data) - block_size, (batch_size,))\n",
    "    X = torch.stack([data[i:i+block_size] for i in ix])\n",
    "    y = torch.stack([data[i+1:i+block_size+1] for i in ix])\n",
    "    X, y = X.to(device), y.to(device)\n",
    "    return X, y\n",
    "\n",
    "get_batch(train_data)"
   ],
   "metadata": {
    "collapsed": false,
    "ExecuteTime": {
     "end_time": "2023-05-30T12:24:54.885924Z",
     "start_time": "2023-05-30T12:24:54.872462Z"
    }
   }
  },
  {
   "cell_type": "code",
   "execution_count": null,
   "outputs": [],
   "source": [
    "class LayerNorm1d:\n",
    "    def __init__(self, dim, eps=1e-5, momentum=0.1):\n",
    "        self.eps = eps\n",
    "        self.gamma = torch.ones(dim)\n",
    "        self.beta = torch.zeros(dim)\n",
    "\n",
    "    def __call__(self, x):\n",
    "        xmean = x.mean(1, keepdims=True)\n",
    "        xvar = x.var(1, keepdims=True)\n",
    "        xhat = (x - xmean) / torch.sqrt(xvar + self.eps) # Normalize to unit variance\n",
    "        self.out = self.gamma * xhat + self.beta\n",
    "        return self.out\n",
    "\n",
    "    def parameters(self):\n",
    "        return self.gamma, self.beta\n",
    "\n",
    "module = LayerNorm1d(100)\n",
    "x = torch.randn(32, 100)\n",
    "x = module(x)\n",
    "x.shape\n",
    "\n",
    "x[:,0].mean(), x[:,0].std()\n",
    "x[0,:].mean(), x[0,:].std()"
   ],
   "metadata": {
    "collapsed": false
   }
  },
  {
   "cell_type": "code",
   "execution_count": 10,
   "outputs": [
    {
     "name": "stdout",
     "output_type": "stream",
     "text": [
      "\n",
      "abIg3UtHzLvn:GY$gllfDOEMbdK'eBjJMoIC&T&foMddxRDRrVLNZPeoebgLapbWIcwSOGu\n",
      ":.sS,NU$V!kqUZIMgd&u,:R UHOD\n"
     ]
    }
   ],
   "source": [
    "import torch\n",
    "import torch.nn as nn\n",
    "from torch.nn import functional as F\n",
    "torch.manual_seed(42)\n",
    "\n",
    "class Head(nn.Module):\n",
    "    def __init__(self, head_size, n_embed, block_size, dropout):\n",
    "        super().__init__()\n",
    "        self.key = nn.Linear(n_embed, head_size, bias=False)  # Stores \"what I am/have\"\n",
    "        self.query = nn.Linear(n_embed, head_size, bias=False)  # Stores \"what am I looking for/interested in\"\n",
    "        self.value = nn.Linear(n_embed, head_size, bias=False)  # Stores \"If you find me interesting, here is what I will communicate to you\"\n",
    "        self.dropout = nn.Dropout(dropout)\n",
    "        self.register_buffer('tril', torch.tril(torch.ones(block_size, block_size)))\n",
    "\n",
    "    def forward(self, x):\n",
    "        B, T, C = x.shape\n",
    "        q = self.query(x) # (B,T,C)\n",
    "        k = self.key(x)\n",
    "        # Self attention\n",
    "        wei = q @ k.transpose(-2,-1) * C ** -0.5  # Scaled to not have softmax immediately converge towards a single node (scaled attention)\n",
    "        wei = wei.masked_fill(self.tril[:T, :T] == 0, float('-inf'))\n",
    "        wei = F.softmax(wei, dim=-1)\n",
    "        wei = self.dropout(wei)\n",
    "\n",
    "        # Perform the weighted aggregation of values\n",
    "        v = self.value(x)  # (B, T, C)\n",
    "        out = wei @ v\n",
    "        return out\n",
    "\n",
    "\n",
    "class MultiHead(nn.Module):\n",
    "\n",
    "    def __init__(self, num_heads, head_size, n_embed, block_size, dropout):\n",
    "        super().__init__()\n",
    "        self.heads = nn.ModuleList((Head(head_size, n_embed, block_size, dropout) for _ in range(num_heads)))\n",
    "        self.proj = nn.Linear(n_embed, n_embed)\n",
    "        self.dropout = nn.Dropout(dropout)\n",
    "\n",
    "    def forward(self, x):\n",
    "        x = torch.cat([h(x) for h in self.heads], dim=-1)\n",
    "        x = self.proj(x)\n",
    "        x = self.dropout(x)\n",
    "        return x\n",
    "\n",
    "\n",
    "class FeedForward(nn.Module):\n",
    "\n",
    "    \"\"\"\n",
    "    A simple layer followed by a non-linearity\n",
    "    \"\"\"\n",
    "    def __init__(self, n_embed, dropout):\n",
    "        super().__init__()\n",
    "        self.net = nn.Sequential(\n",
    "            nn.Linear(n_embed, 4 * n_embed),\n",
    "            nn.ReLU(),\n",
    "            nn.Linear(4 * n_embed, n_embed),\n",
    "            nn.Dropout(dropout),\n",
    "        )\n",
    "\n",
    "    def forward(self, x):\n",
    "        return self.net(x)\n",
    "\n",
    "class Block(nn.Module):\n",
    "\n",
    "    \"\"\"\n",
    "    Intersperse communication and computation\n",
    "    \"\"\"\n",
    "    def __init__(self, num_heads, n_embed, block_size, dropout):\n",
    "        super().__init__()\n",
    "        head_size = n_embed // num_heads\n",
    "        self.ln1 = nn.LayerNorm(n_embed)\n",
    "        self.sa_heads = MultiHead(num_heads, head_size, n_embed, block_size, dropout)\n",
    "        self.ln2 = nn.LayerNorm(n_embed)\n",
    "        self.ffwd = FeedForward(n_embed, dropout)\n",
    "\n",
    "    def forward(self, x):\n",
    "        x = self.ln1(x)\n",
    "        x = x + self.sa_heads(x)\n",
    "        x = self.ln2(x)\n",
    "        x = x + self.ffwd(x) # (B, T, C) - each token thinks individually\n",
    "        return x\n",
    "\n",
    "class BigramLanguageModel(nn.Module):\n",
    "    def __init__(self, num_layers, num_heads, block_size, vocab_size, n_embed, dropout):\n",
    "        super().__init__()\n",
    "        self.token_embedding = nn.Embedding(vocab_size, n_embed)\n",
    "        self.position_embedding = nn.Embedding(block_size, n_embed)\n",
    "        self.blocks = nn.Sequential(*((Block(num_heads, n_embed, block_size, dropout)) for _ in range(num_layers)))\n",
    "        self.ln_f = nn.LayerNorm(n_embed)\n",
    "        self.lm_head = nn.Linear(n_embed, vocab_size)\n",
    "\n",
    "    def forward(self, x, y):\n",
    "        B, T = x.shape\n",
    "        token_embed = self.token_embedding(x) # (batch_size, time_size, C)\n",
    "        pos_embed = self.position_embedding(torch.arange(T, device=x.device)) # (time_size, C)\n",
    "        x = token_embed + pos_embed # tensors gets batch aligned, so pos_embed: (batch_suze, time_size, C)\n",
    "        x = self.blocks(x)\n",
    "        x = self.ln_f(x)\n",
    "        logits = self.lm_head(x) # (batch_size, time_size, vocab_size)\n",
    "\n",
    "        if y is None:\n",
    "            return logits, None\n",
    "\n",
    "        batch_size, block_size, vocab_size = logits.shape\n",
    "        # Change layout to use cross_entropy (as it expects (batch, channel))\n",
    "        logits = logits.view(batch_size * block_size, vocab_size) # Flatten two first dims\n",
    "        y = y.view(batch_size*block_size) # Flatten\n",
    "        loss = F.cross_entropy(logits, y)\n",
    "        return logits, loss\n",
    "\n",
    "    def generate(self, x, max_tokens):\n",
    "        # X is (batch_size, time_size)\n",
    "        self.eval()\n",
    "        for _ in range(max_tokens):\n",
    "            X_cond = x[:, -block_size:]\n",
    "            logits, _ = self(X_cond, None)\n",
    "            # Only take last element in block\n",
    "            logits = logits[:,-1,:] # becomes (batch_size, vocab_size)\n",
    "            probs = F.softmax(logits, dim=-1)\n",
    "            # Sample distribution\n",
    "            X_next = torch.multinomial(probs, num_samples=1) # (batch_size, 1)\n",
    "            # Update X\n",
    "            x = torch.cat((x, X_next), dim=1) # (batch_size, time_size+1)\n",
    "        self.train()\n",
    "        return x\n",
    "\n",
    "\n",
    "m = BigramLanguageModel(num_layers, num_heads, block_size, vocab_size, n_embed, dropout)\n",
    "m.to(device)\n",
    "X = torch.zeros((1,1), dtype=torch.long)\n",
    "s = decode(m.generate(X, 100)[0].tolist())\n",
    "print(s)\n"
   ],
   "metadata": {
    "collapsed": false,
    "ExecuteTime": {
     "end_time": "2023-05-30T12:25:00.198964Z",
     "start_time": "2023-05-30T12:24:58.740903Z"
    }
   }
  },
  {
   "cell_type": "code",
   "execution_count": 11,
   "outputs": [],
   "source": [
    "def count_parameters(model):\n",
    "    return sum(p.numel() for p in model.parameters() if p.requires_grad)"
   ],
   "metadata": {
    "collapsed": false,
    "ExecuteTime": {
     "end_time": "2023-05-30T12:25:05.172964Z",
     "start_time": "2023-05-30T12:25:05.169652Z"
    }
   }
  },
  {
   "cell_type": "code",
   "execution_count": 12,
   "outputs": [
    {
     "data": {
      "text/plain": "BigramLanguageModel(\n  (token_embedding): Embedding(65, 384)\n  (position_embedding): Embedding(256, 384)\n  (blocks): Sequential(\n    (0): Block(\n      (ln1): LayerNorm((384,), eps=1e-05, elementwise_affine=True)\n      (sa_heads): MultiHead(\n        (heads): ModuleList(\n          (0-5): 6 x Head(\n            (key): Linear(in_features=384, out_features=64, bias=False)\n            (query): Linear(in_features=384, out_features=64, bias=False)\n            (value): Linear(in_features=384, out_features=64, bias=False)\n            (dropout): Dropout(p=0.2, inplace=False)\n          )\n        )\n        (proj): Linear(in_features=384, out_features=384, bias=True)\n        (dropout): Dropout(p=0.2, inplace=False)\n      )\n      (ln2): LayerNorm((384,), eps=1e-05, elementwise_affine=True)\n      (ffwd): FeedForward(\n        (net): Sequential(\n          (0): Linear(in_features=384, out_features=1536, bias=True)\n          (1): ReLU()\n          (2): Linear(in_features=1536, out_features=384, bias=True)\n          (3): Dropout(p=0.2, inplace=False)\n        )\n      )\n    )\n    (1): Block(\n      (ln1): LayerNorm((384,), eps=1e-05, elementwise_affine=True)\n      (sa_heads): MultiHead(\n        (heads): ModuleList(\n          (0-5): 6 x Head(\n            (key): Linear(in_features=384, out_features=64, bias=False)\n            (query): Linear(in_features=384, out_features=64, bias=False)\n            (value): Linear(in_features=384, out_features=64, bias=False)\n            (dropout): Dropout(p=0.2, inplace=False)\n          )\n        )\n        (proj): Linear(in_features=384, out_features=384, bias=True)\n        (dropout): Dropout(p=0.2, inplace=False)\n      )\n      (ln2): LayerNorm((384,), eps=1e-05, elementwise_affine=True)\n      (ffwd): FeedForward(\n        (net): Sequential(\n          (0): Linear(in_features=384, out_features=1536, bias=True)\n          (1): ReLU()\n          (2): Linear(in_features=1536, out_features=384, bias=True)\n          (3): Dropout(p=0.2, inplace=False)\n        )\n      )\n    )\n    (2): Block(\n      (ln1): LayerNorm((384,), eps=1e-05, elementwise_affine=True)\n      (sa_heads): MultiHead(\n        (heads): ModuleList(\n          (0-5): 6 x Head(\n            (key): Linear(in_features=384, out_features=64, bias=False)\n            (query): Linear(in_features=384, out_features=64, bias=False)\n            (value): Linear(in_features=384, out_features=64, bias=False)\n            (dropout): Dropout(p=0.2, inplace=False)\n          )\n        )\n        (proj): Linear(in_features=384, out_features=384, bias=True)\n        (dropout): Dropout(p=0.2, inplace=False)\n      )\n      (ln2): LayerNorm((384,), eps=1e-05, elementwise_affine=True)\n      (ffwd): FeedForward(\n        (net): Sequential(\n          (0): Linear(in_features=384, out_features=1536, bias=True)\n          (1): ReLU()\n          (2): Linear(in_features=1536, out_features=384, bias=True)\n          (3): Dropout(p=0.2, inplace=False)\n        )\n      )\n    )\n    (3): Block(\n      (ln1): LayerNorm((384,), eps=1e-05, elementwise_affine=True)\n      (sa_heads): MultiHead(\n        (heads): ModuleList(\n          (0-5): 6 x Head(\n            (key): Linear(in_features=384, out_features=64, bias=False)\n            (query): Linear(in_features=384, out_features=64, bias=False)\n            (value): Linear(in_features=384, out_features=64, bias=False)\n            (dropout): Dropout(p=0.2, inplace=False)\n          )\n        )\n        (proj): Linear(in_features=384, out_features=384, bias=True)\n        (dropout): Dropout(p=0.2, inplace=False)\n      )\n      (ln2): LayerNorm((384,), eps=1e-05, elementwise_affine=True)\n      (ffwd): FeedForward(\n        (net): Sequential(\n          (0): Linear(in_features=384, out_features=1536, bias=True)\n          (1): ReLU()\n          (2): Linear(in_features=1536, out_features=384, bias=True)\n          (3): Dropout(p=0.2, inplace=False)\n        )\n      )\n    )\n    (4): Block(\n      (ln1): LayerNorm((384,), eps=1e-05, elementwise_affine=True)\n      (sa_heads): MultiHead(\n        (heads): ModuleList(\n          (0-5): 6 x Head(\n            (key): Linear(in_features=384, out_features=64, bias=False)\n            (query): Linear(in_features=384, out_features=64, bias=False)\n            (value): Linear(in_features=384, out_features=64, bias=False)\n            (dropout): Dropout(p=0.2, inplace=False)\n          )\n        )\n        (proj): Linear(in_features=384, out_features=384, bias=True)\n        (dropout): Dropout(p=0.2, inplace=False)\n      )\n      (ln2): LayerNorm((384,), eps=1e-05, elementwise_affine=True)\n      (ffwd): FeedForward(\n        (net): Sequential(\n          (0): Linear(in_features=384, out_features=1536, bias=True)\n          (1): ReLU()\n          (2): Linear(in_features=1536, out_features=384, bias=True)\n          (3): Dropout(p=0.2, inplace=False)\n        )\n      )\n    )\n    (5): Block(\n      (ln1): LayerNorm((384,), eps=1e-05, elementwise_affine=True)\n      (sa_heads): MultiHead(\n        (heads): ModuleList(\n          (0-5): 6 x Head(\n            (key): Linear(in_features=384, out_features=64, bias=False)\n            (query): Linear(in_features=384, out_features=64, bias=False)\n            (value): Linear(in_features=384, out_features=64, bias=False)\n            (dropout): Dropout(p=0.2, inplace=False)\n          )\n        )\n        (proj): Linear(in_features=384, out_features=384, bias=True)\n        (dropout): Dropout(p=0.2, inplace=False)\n      )\n      (ln2): LayerNorm((384,), eps=1e-05, elementwise_affine=True)\n      (ffwd): FeedForward(\n        (net): Sequential(\n          (0): Linear(in_features=384, out_features=1536, bias=True)\n          (1): ReLU()\n          (2): Linear(in_features=1536, out_features=384, bias=True)\n          (3): Dropout(p=0.2, inplace=False)\n        )\n      )\n    )\n  )\n  (ln_f): LayerNorm((384,), eps=1e-05, elementwise_affine=True)\n  (lm_head): Linear(in_features=384, out_features=65, bias=True)\n)"
     },
     "execution_count": 12,
     "metadata": {},
     "output_type": "execute_result"
    }
   ],
   "source": [
    "# Create our language model and move it to device (preferably GPU)\n",
    "m = BigramLanguageModel(num_layers, num_heads, block_size, vocab_size, n_embed, dropout)\n",
    "m.to(device)"
   ],
   "metadata": {
    "collapsed": false,
    "ExecuteTime": {
     "end_time": "2023-05-30T12:25:07.446886Z",
     "start_time": "2023-05-30T12:25:07.388286Z"
    }
   }
  },
  {
   "cell_type": "code",
   "execution_count": 37,
   "outputs": [
    {
     "data": {
      "text/plain": "'10,788,929'"
     },
     "execution_count": 37,
     "metadata": {},
     "output_type": "execute_result"
    }
   ],
   "source": [
    "num_params = count_parameters(m)\n",
    "f'{num_params:,}'"
   ],
   "metadata": {
    "collapsed": false,
    "ExecuteTime": {
     "end_time": "2023-05-30T08:02:53.418234Z",
     "start_time": "2023-05-30T08:02:53.412060Z"
    }
   }
  },
  {
   "cell_type": "code",
   "execution_count": 1,
   "outputs": [
    {
     "ename": "NameError",
     "evalue": "name 'm' is not defined",
     "output_type": "error",
     "traceback": [
      "\u001B[0;31m---------------------------------------------------------------------------\u001B[0m",
      "\u001B[0;31mNameError\u001B[0m                                 Traceback (most recent call last)",
      "Cell \u001B[0;32mIn[1], line 1\u001B[0m\n\u001B[0;32m----> 1\u001B[0m \u001B[43mm\u001B[49m\u001B[38;5;241m.\u001B[39mload_state_dict(torch\u001B[38;5;241m.\u001B[39mload(model_dir \u001B[38;5;241m/\u001B[39m \u001B[38;5;124m\"\u001B[39m\u001B[38;5;124mshakespeare_2000.torch\u001B[39m\u001B[38;5;124m\"\u001B[39m))\n\u001B[1;32m      2\u001B[0m losses_file \u001B[38;5;241m=\u001B[39m plot_dir \u001B[38;5;241m/\u001B[39m \u001B[38;5;124m\"\u001B[39m\u001B[38;5;124mlosses_2000.pickle\u001B[39m\u001B[38;5;124m\"\u001B[39m\n\u001B[1;32m      3\u001B[0m \u001B[38;5;28;01mif\u001B[39;00m losses_file\u001B[38;5;241m.\u001B[39mexists():\n",
      "\u001B[0;31mNameError\u001B[0m: name 'm' is not defined"
     ]
    }
   ],
   "source": [
    "m.load_state_dict(torch.load(model_dir / \"shakespeare_2000.torch\"))\n",
    "losses_file = plot_dir / \"losses_2000.pickle\"\n",
    "if losses_file.exists():\n",
    "    with open(losses_file, \"rb\") as fp:   # Unpickling\n",
    "        losses = pickle.load(fp)\n",
    "else:\n",
    "    losses = []"
   ],
   "metadata": {
    "collapsed": false,
    "ExecuteTime": {
     "end_time": "2023-05-31T11:12:01.219707Z",
     "start_time": "2023-05-31T11:12:01.055704Z"
    }
   }
  },
  {
   "cell_type": "code",
   "execution_count": 38,
   "outputs": [],
   "source": [
    "losses = []"
   ],
   "metadata": {
    "collapsed": false,
    "ExecuteTime": {
     "end_time": "2023-05-30T08:26:20.376160Z",
     "start_time": "2023-05-30T08:26:20.371524Z"
    }
   }
  },
  {
   "cell_type": "code",
   "execution_count": 14,
   "outputs": [
    {
     "name": "stdout",
     "output_type": "stream",
     "text": [
      "\n",
      "\n",
      "HERMIONE:\n",
      "O, pray the heart, namestic to the permiticw,\n",
      "Ne'er king.\n",
      "\n",
      "MENERGEIUS:\n",
      "Be a?ond here, is \n"
     ]
    }
   ],
   "source": [
    "X = torch.zeros((1,1), dtype=torch.long)\n",
    "s = decode(m.generate(X, 100)[0].tolist())\n",
    "print(s)"
   ],
   "metadata": {
    "collapsed": false,
    "ExecuteTime": {
     "end_time": "2023-05-30T12:26:00.658267Z",
     "start_time": "2023-05-30T12:25:59.345647Z"
    }
   }
  },
  {
   "cell_type": "code",
   "execution_count": 15,
   "outputs": [],
   "source": [
    "optimizer = torch.optim.AdamW(m.parameters(), lr=lr)"
   ],
   "metadata": {
    "collapsed": false,
    "ExecuteTime": {
     "end_time": "2023-05-30T12:26:04.400120Z",
     "start_time": "2023-05-30T12:26:04.389572Z"
    }
   }
  },
  {
   "cell_type": "code",
   "execution_count": null,
   "outputs": [],
   "source": [
    "steps = 1000\n",
    "\n",
    "f = IntProgress(min=0, max=steps) # instantiate the bar\n",
    "display(f) # display the bar\n",
    "\n",
    "#fig2 = go.FigureWidget()\n",
    "#fig2.add_scatter(y=losses)\n",
    "#fig2.show()\n",
    "\n",
    "for step in range(steps):\n",
    "    f.value = step\n",
    "    xb, yb = get_batch(train_data)\n",
    "    logits, loss = m(xb, yb)\n",
    "    optimizer.zero_grad(set_to_none=True)\n",
    "    loss.backward()\n",
    "    optimizer.step()\n",
    "    losses.append(loss.item())\n",
    "    #fig2.data[0].y = losses\n",
    "    #fig2.show()\n",
    "\n",
    "with open(plot_dir / f\"losses_{len(losses)}.pickle\", \"wb\") as fp:\n",
    "    pickle.dump(losses, fp)\n",
    "\n",
    "torch.save(m.state_dict(), model_dir / f\"shakespeare_{len(losses)}.torch\")"
   ],
   "metadata": {
    "collapsed": false
   }
  },
  {
   "cell_type": "code",
   "execution_count": null,
   "outputs": [
    {
     "data": {
      "text/plain": "IntProgress(value=0, max=1000)",
      "application/vnd.jupyter.widget-view+json": {
       "version_major": 2,
       "version_minor": 0,
       "model_id": "130509feabb74c5c865db52631fdb421"
      }
     },
     "metadata": {},
     "output_type": "display_data"
    }
   ],
   "source": [
    "fig = px.line(pd.DataFrame(losses, columns=[\"loss\"]))\n",
    "fig.write_html(plot_dir / f\"shakespeare_loss_{len(losses)}.html\")\n",
    "fig.show()"
   ],
   "metadata": {
    "collapsed": false,
    "is_executing": true,
    "ExecuteTime": {
     "start_time": "2023-05-30T12:26:07.406101Z"
    }
   }
  },
  {
   "cell_type": "code",
   "execution_count": 47,
   "outputs": [
    {
     "name": "stdout",
     "output_type": "stream",
     "text": [
      "\n",
      "Yet say't not forly then, for me, have\n",
      "here, that I have it no reque that him name,\n",
      "And much time very rail whild to help.\n",
      "\n",
      "JULIET:\n",
      "Come, thence of did sole beliefs;\n",
      "To corset to bid Ancius on the people,\n",
      "Leave thou lives conteition this death.\n",
      "\n",
      "CLAUDIO:\n",
      "Sirr; Jlifst leaps, and propove all that feare.\n",
      "Nurse, Wishman, and your child! these peoceity!\n",
      "If your to trooNe to danly tongue shalt.\n",
      "\n",
      "DUCY:\n",
      "Then, let'st not him from fear, this lown comes to myself at\n",
      "hour, inocking my heart and like on your fair tencients.\n",
      "Sunal to every god so 'er inducking missel, man, do\n",
      "happ'd her me as done.\n",
      "\n",
      "Secrator:\n",
      "Dray-medded, but a bone\n",
      "As our son asholy but villain to cure,\n",
      "Eith part the ignopany, sand your auntil,\n",
      "Adverallaman is for zirran for thee.\n",
      "But Luckent may and good livele our tribence.\n",
      "Ah, good I too part, belace the born, wondly and take.\n",
      "\n",
      "RoNCE:\n",
      "Thy chooks to not a was fortune.\n",
      "\n",
      "RICHESSSONTER:\n",
      "Though Bianca comestabla myselfoodication,\n",
      "Eother Clausner to man, I would thou oner to must wusd\n"
     ]
    }
   ],
   "source": [
    "num_tokens = 1000\n",
    "X = torch.zeros((1,1), dtype=torch.long, device=device)\n",
    "s = decode(m.generate(X, num_tokens)[0].tolist())\n",
    "with open(plot_dir / \"generated.txt\", \"w\") as f:\n",
    "    f.write(s)\n",
    "print(s)"
   ],
   "metadata": {
    "collapsed": false,
    "ExecuteTime": {
     "end_time": "2023-05-30T12:15:01.604862Z",
     "start_time": "2023-05-30T12:14:28.325545Z"
    }
   }
  },
  {
   "cell_type": "code",
   "execution_count": 2,
   "outputs": [],
   "source": [
    "mydf = pd.DataFrame()\n",
    "mydf[\"labels\"] = [0] * 10\n",
    "mydf.labels.loc[6:8] = 1"
   ],
   "metadata": {
    "collapsed": false,
    "ExecuteTime": {
     "start_time": "2023-05-01T15:46:56.042396Z",
     "end_time": "2023-05-01T15:46:56.059956Z"
    }
   }
  },
  {
   "cell_type": "code",
   "execution_count": 3,
   "outputs": [
    {
     "data": {
      "text/plain": "1"
     },
     "execution_count": 3,
     "metadata": {},
     "output_type": "execute_result"
    }
   ],
   "source": [
    "mydf.labels.max()"
   ],
   "metadata": {
    "collapsed": false,
    "ExecuteTime": {
     "start_time": "2023-05-01T15:47:26.064975Z",
     "end_time": "2023-05-01T15:47:26.234153Z"
    }
   }
  },
  {
   "cell_type": "code",
   "execution_count": 6,
   "outputs": [],
   "source": [
    "idx = mydf.loc[mydf.labels != 0].index[-1]"
   ],
   "metadata": {
    "collapsed": false,
    "ExecuteTime": {
     "start_time": "2023-05-01T15:53:05.155905Z",
     "end_time": "2023-05-01T15:53:05.165231Z"
    }
   }
  },
  {
   "cell_type": "code",
   "execution_count": 8,
   "outputs": [],
   "source": [
    "mydf2 = mydf.loc[:idx]"
   ],
   "metadata": {
    "collapsed": false,
    "ExecuteTime": {
     "start_time": "2023-05-01T15:53:33.472387Z",
     "end_time": "2023-05-01T15:53:33.482323Z"
    }
   }
  },
  {
   "cell_type": "code",
   "execution_count": 9,
   "outputs": [
    {
     "data": {
      "text/plain": "   labels\n0       0\n1       0\n2       0\n3       0\n4       0\n5       0\n6       1\n7       1\n8       1",
      "text/html": "<div>\n<style scoped>\n    .dataframe tbody tr th:only-of-type {\n        vertical-align: middle;\n    }\n\n    .dataframe tbody tr th {\n        vertical-align: top;\n    }\n\n    .dataframe thead th {\n        text-align: right;\n    }\n</style>\n<table border=\"1\" class=\"dataframe\">\n  <thead>\n    <tr style=\"text-align: right;\">\n      <th></th>\n      <th>labels</th>\n    </tr>\n  </thead>\n  <tbody>\n    <tr>\n      <th>0</th>\n      <td>0</td>\n    </tr>\n    <tr>\n      <th>1</th>\n      <td>0</td>\n    </tr>\n    <tr>\n      <th>2</th>\n      <td>0</td>\n    </tr>\n    <tr>\n      <th>3</th>\n      <td>0</td>\n    </tr>\n    <tr>\n      <th>4</th>\n      <td>0</td>\n    </tr>\n    <tr>\n      <th>5</th>\n      <td>0</td>\n    </tr>\n    <tr>\n      <th>6</th>\n      <td>1</td>\n    </tr>\n    <tr>\n      <th>7</th>\n      <td>1</td>\n    </tr>\n    <tr>\n      <th>8</th>\n      <td>1</td>\n    </tr>\n  </tbody>\n</table>\n</div>"
     },
     "execution_count": 9,
     "metadata": {},
     "output_type": "execute_result"
    }
   ],
   "source": [
    "mydf2"
   ],
   "metadata": {
    "collapsed": false,
    "ExecuteTime": {
     "start_time": "2023-05-01T15:54:23.254157Z",
     "end_time": "2023-05-01T15:54:23.280616Z"
    }
   }
  },
  {
   "cell_type": "code",
   "execution_count": 10,
   "outputs": [
    {
     "data": {
      "text/plain": "   labels\n0       0\n1       0\n2       0\n3       0\n4       0\n5       0\n6       1\n7       1\n8       1\n9       0",
      "text/html": "<div>\n<style scoped>\n    .dataframe tbody tr th:only-of-type {\n        vertical-align: middle;\n    }\n\n    .dataframe tbody tr th {\n        vertical-align: top;\n    }\n\n    .dataframe thead th {\n        text-align: right;\n    }\n</style>\n<table border=\"1\" class=\"dataframe\">\n  <thead>\n    <tr style=\"text-align: right;\">\n      <th></th>\n      <th>labels</th>\n    </tr>\n  </thead>\n  <tbody>\n    <tr>\n      <th>0</th>\n      <td>0</td>\n    </tr>\n    <tr>\n      <th>1</th>\n      <td>0</td>\n    </tr>\n    <tr>\n      <th>2</th>\n      <td>0</td>\n    </tr>\n    <tr>\n      <th>3</th>\n      <td>0</td>\n    </tr>\n    <tr>\n      <th>4</th>\n      <td>0</td>\n    </tr>\n    <tr>\n      <th>5</th>\n      <td>0</td>\n    </tr>\n    <tr>\n      <th>6</th>\n      <td>1</td>\n    </tr>\n    <tr>\n      <th>7</th>\n      <td>1</td>\n    </tr>\n    <tr>\n      <th>8</th>\n      <td>1</td>\n    </tr>\n    <tr>\n      <th>9</th>\n      <td>0</td>\n    </tr>\n  </tbody>\n</table>\n</div>"
     },
     "execution_count": 10,
     "metadata": {},
     "output_type": "execute_result"
    }
   ],
   "source": [
    "mydf"
   ],
   "metadata": {
    "collapsed": false,
    "ExecuteTime": {
     "start_time": "2023-05-01T15:54:40.933668Z",
     "end_time": "2023-05-01T15:54:40.965962Z"
    }
   }
  },
  {
   "cell_type": "code",
   "execution_count": null,
   "outputs": [],
   "source": [],
   "metadata": {
    "collapsed": false
   }
  }
 ],
 "metadata": {
  "kernelspec": {
   "display_name": "Python 3",
   "language": "python",
   "name": "python3"
  },
  "language_info": {
   "codemirror_mode": {
    "name": "ipython",
    "version": 2
   },
   "file_extension": ".py",
   "mimetype": "text/x-python",
   "name": "python",
   "nbconvert_exporter": "python",
   "pygments_lexer": "ipython2",
   "version": "2.7.6"
  }
 },
 "nbformat": 4,
 "nbformat_minor": 0
}
